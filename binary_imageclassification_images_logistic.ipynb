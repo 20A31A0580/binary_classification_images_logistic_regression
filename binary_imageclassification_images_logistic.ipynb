{
  "nbformat": 4,
  "nbformat_minor": 0,
  "metadata": {
    "colab": {
      "provenance": []
    },
    "kernelspec": {
      "name": "python3",
      "display_name": "Python 3"
    },
    "language_info": {
      "name": "python"
    }
  },
  "cells": [
    {
      "cell_type": "code",
      "execution_count": 1,
      "metadata": {
        "id": "Bz70JqUHnGRX"
      },
      "outputs": [],
      "source": [
        "import numpy as np\n",
        "from sklearn.model_selection import train_test_split\n",
        "from sklearn.linear_model import LogisticRegression\n",
        "from sklearn.metrics import accuracy_score\n",
        "from sklearn.preprocessing import StandardScaler\n",
        "from PIL import Image\n",
        "import os"
      ]
    },
    {
      "cell_type": "code",
      "source": [
        "\n",
        "from google.colab import drive\n",
        "drive.mount('/content/drive')"
      ],
      "metadata": {
        "id": "opXU0VV0nXTs",
        "colab": {
          "base_uri": "https://localhost:8080/"
        },
        "outputId": "f457924b-1508-40b8-ebcb-4e35588c1783"
      },
      "execution_count": 2,
      "outputs": [
        {
          "output_type": "stream",
          "name": "stdout",
          "text": [
            "Mounted at /content/drive\n"
          ]
        }
      ]
    },
    {
      "cell_type": "code",
      "source": [
        "\n",
        "photos_folder = \"/content/drive/MyDrive/model-testing-images/photos\"\n",
        "nophotos_folder = \"/content/drive/MyDrive/model-testing-images/nophotos\""
      ],
      "metadata": {
        "id": "N3OC8z7Ss2CE"
      },
      "execution_count": 3,
      "outputs": []
    },
    {
      "cell_type": "code",
      "source": [
        "def load_images(folder_path, label, target_size=(64, 64)):\n",
        "    data = []\n",
        "    labels = []\n",
        "\n",
        "    for filename in os.listdir(folder_path):\n",
        "        img_path = os.path.join(folder_path, filename)\n",
        "        if img_path.endswith((\".jpg\", \".png\")):  # Assuming images are in JPG or PNG format\n",
        "            img = Image.open(img_path)\n",
        "            img = img.resize(target_size)  # Resize the image to a fixed size\n",
        "            img_array = (np.array(img))\n",
        "            img_array.resize(64)\n",
        "            data.append(img_array.flatten())  # Flatten the image array\n",
        "            labels.append(label)\n",
        "    return np.array(data),np.array(labels)\n",
        "photos_data, photos_labels = load_images(photos_folder, 1, target_size=(64, 64))\n",
        "nophotos_data, nophotos_labels = load_images(nophotos_folder, 0, target_size=(64, 64))"
      ],
      "metadata": {
        "id": "NzjvMz60z0al"
      },
      "execution_count": 6,
      "outputs": []
    },
    {
      "cell_type": "code",
      "source": [
        "# Concatenate data and labels\n",
        "X = np.concatenate((photos_data, nophotos_data), axis=0)\n",
        "y = np.concatenate((photos_labels, nophotos_labels), axis=0)\n",
        "\n",
        "# Split the data into training and testing sets\n",
        "X_train, X_test, y_train, y_test = train_test_split(X, y, test_size=0.2, random_state=42)\n",
        "\n",
        "# Reshape data if needed (depends on the model you are using)\n",
        "X_train_flat = X_train.reshape(X_train.shape[0], -1)\n",
        "X_test_flat = X_test.reshape(X_test.shape[0], -1)\n",
        "\n",
        "# Create and train the logistic regression model\n",
        "model = LogisticRegression()\n",
        "model.fit(X_train_flat, y_train)\n",
        "\n",
        "# Make predictions on the test set\n",
        "y_pred = model.predict(X_test_flat)\n",
        "\n",
        "# Evaluate the model\n",
        "accuracy = accuracy_score(y_test, y_pred)\n",
        "print(f\"Accuracy: {accuracy * 100:.2f}%\")"
      ],
      "metadata": {
        "colab": {
          "base_uri": "https://localhost:8080/"
        },
        "id": "hbOdRy6kpuC2",
        "outputId": "78d5c8d9-dd06-4281-dbca-a1893b74a686"
      },
      "execution_count": 7,
      "outputs": [
        {
          "output_type": "stream",
          "name": "stdout",
          "text": [
            "Accuracy: 62.50%\n"
          ]
        },
        {
          "output_type": "stream",
          "name": "stderr",
          "text": [
            "/usr/local/lib/python3.10/dist-packages/sklearn/linear_model/_logistic.py:458: ConvergenceWarning: lbfgs failed to converge (status=1):\n",
            "STOP: TOTAL NO. of ITERATIONS REACHED LIMIT.\n",
            "\n",
            "Increase the number of iterations (max_iter) or scale the data as shown in:\n",
            "    https://scikit-learn.org/stable/modules/preprocessing.html\n",
            "Please also refer to the documentation for alternative solver options:\n",
            "    https://scikit-learn.org/stable/modules/linear_model.html#logistic-regression\n",
            "  n_iter_i = _check_optimize_result(\n"
          ]
        }
      ]
    },
    {
      "cell_type": "code",
      "source": [
        "print(\"Photos Data Shape:\", photos_data.shape)\n",
        "print(\"NoPhotos Data Shape:\", np.array(nophotos_data).shape)"
      ],
      "metadata": {
        "colab": {
          "base_uri": "https://localhost:8080/"
        },
        "id": "QhnEw80HrHK8",
        "outputId": "70ea0d51-e4a2-43c2-9744-e268201706a3"
      },
      "execution_count": 9,
      "outputs": [
        {
          "output_type": "stream",
          "name": "stdout",
          "text": [
            "Photos Data Shape: (20, 64)\n",
            "NoPhotos Data Shape: (18, 64)\n"
          ]
        }
      ]
    }
  ]
}